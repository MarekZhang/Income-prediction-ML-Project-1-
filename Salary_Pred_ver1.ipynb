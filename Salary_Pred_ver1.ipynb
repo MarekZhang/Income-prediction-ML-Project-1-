{
 "cells": [
  {
   "cell_type": "code",
   "execution_count": 1,
   "metadata": {},
   "outputs": [
    {
     "name": "stderr",
     "output_type": "stream",
     "text": [
      "/Users/zhangbowen/Applications/anaconda3/anaconda3/lib/python3.7/site-packages/lightgbm/__init__.py:46: UserWarning: Starting from version 2.2.1, the library file in distribution wheels for macOS is built by the Apple Clang (Xcode_8.3.3) compiler.\n",
      "This means that in case of installing LightGBM from PyPI via the ``pip install lightgbm`` command, you don't need to install the gcc compiler anymore.\n",
      "Instead of that, you need to install the OpenMP library, which is required for running LightGBM on the system with the Apple Clang compiler.\n",
      "You can install the OpenMP library by the following command: ``brew install libomp``.\n",
      "  \"You can install the OpenMP library by the following command: ``brew install libomp``.\", UserWarning)\n"
     ]
    }
   ],
   "source": [
    "import numpy as np\n",
    "import pandas as pd\n",
    "import matplotlib.pyplot as plt\n",
    "import lightgbm as lgb\n",
    "from sklearn.preprocessing import LabelEncoder\n",
    "from sklearn.model_selection import train_test_split\n",
    "\n",
    "%matplotlib inline\n",
    "%config InlineBackend.figure_format = 'retina'"
   ]
  },
  {
   "cell_type": "code",
   "execution_count": 2,
   "metadata": {},
   "outputs": [
    {
     "name": "stderr",
     "output_type": "stream",
     "text": [
      "/Users/zhangbowen/Applications/anaconda3/anaconda3/lib/python3.7/site-packages/IPython/core/interactiveshell.py:3057: DtypeWarning: Columns (2,4) have mixed types. Specify dtype option on import or set low_memory=False.\n",
      "  interactivity=interactivity, compiler=compiler, result=result)\n",
      "/Users/zhangbowen/Applications/anaconda3/anaconda3/lib/python3.7/site-packages/IPython/core/interactiveshell.py:3057: DtypeWarning: Columns (4) have mixed types. Specify dtype option on import or set low_memory=False.\n",
      "  interactivity=interactivity, compiler=compiler, result=result)\n"
     ]
    }
   ],
   "source": [
    "Income_train_Set = pd.read_csv('Income-train.csv') # index_col = 0把instance当作索引，否则会另外建立索引\n",
    "Income_Pred_Set = pd.read_csv('Income-test.csv')"
   ]
  },
  {
   "cell_type": "code",
   "execution_count": 3,
   "metadata": {},
   "outputs": [
    {
     "data": {
      "text/html": [
       "<div>\n",
       "<style scoped>\n",
       "    .dataframe tbody tr th:only-of-type {\n",
       "        vertical-align: middle;\n",
       "    }\n",
       "\n",
       "    .dataframe tbody tr th {\n",
       "        vertical-align: top;\n",
       "    }\n",
       "\n",
       "    .dataframe thead th {\n",
       "        text-align: right;\n",
       "    }\n",
       "</style>\n",
       "<table border=\"1\" class=\"dataframe\">\n",
       "  <thead>\n",
       "    <tr style=\"text-align: right;\">\n",
       "      <th></th>\n",
       "      <th>Instance</th>\n",
       "      <th>Year of Record</th>\n",
       "      <th>Housing Situation</th>\n",
       "      <th>Crime Level in the City of Employement</th>\n",
       "      <th>Work Experience in Current Job [years]</th>\n",
       "      <th>Satisfation with employer</th>\n",
       "      <th>Gender</th>\n",
       "      <th>Age</th>\n",
       "      <th>Country</th>\n",
       "      <th>Size of City</th>\n",
       "      <th>Profession</th>\n",
       "      <th>University Degree</th>\n",
       "      <th>Wears Glasses</th>\n",
       "      <th>Hair Color</th>\n",
       "      <th>Body Height [cm]</th>\n",
       "      <th>Yearly Income in addition to Salary (e.g. Rental Income)</th>\n",
       "      <th>Total Yearly Income [EUR]</th>\n",
       "    </tr>\n",
       "  </thead>\n",
       "  <tbody>\n",
       "    <tr>\n",
       "      <th>0</th>\n",
       "      <td>1</td>\n",
       "      <td>1940.0</td>\n",
       "      <td>0</td>\n",
       "      <td>33</td>\n",
       "      <td>17</td>\n",
       "      <td>Unhappy</td>\n",
       "      <td>other</td>\n",
       "      <td>45</td>\n",
       "      <td>Afghanistan</td>\n",
       "      <td>25179</td>\n",
       "      <td>group head</td>\n",
       "      <td>No</td>\n",
       "      <td>1</td>\n",
       "      <td>Black</td>\n",
       "      <td>182</td>\n",
       "      <td>0 EUR</td>\n",
       "      <td>6182.05</td>\n",
       "    </tr>\n",
       "    <tr>\n",
       "      <th>1</th>\n",
       "      <td>2</td>\n",
       "      <td>1940.0</td>\n",
       "      <td>0</td>\n",
       "      <td>25</td>\n",
       "      <td>4.9</td>\n",
       "      <td>Unhappy</td>\n",
       "      <td>female</td>\n",
       "      <td>17</td>\n",
       "      <td>Afghanistan</td>\n",
       "      <td>2278204</td>\n",
       "      <td>heavy vehicle and mobile equipment service tec...</td>\n",
       "      <td>No</td>\n",
       "      <td>0</td>\n",
       "      <td>Blond</td>\n",
       "      <td>172</td>\n",
       "      <td>0 EUR</td>\n",
       "      <td>6819.69</td>\n",
       "    </tr>\n",
       "    <tr>\n",
       "      <th>2</th>\n",
       "      <td>3</td>\n",
       "      <td>1940.0</td>\n",
       "      <td>0</td>\n",
       "      <td>34</td>\n",
       "      <td>21</td>\n",
       "      <td>Unhappy</td>\n",
       "      <td>female</td>\n",
       "      <td>48</td>\n",
       "      <td>Afghanistan</td>\n",
       "      <td>822134</td>\n",
       "      <td>sorter</td>\n",
       "      <td>Bachelor</td>\n",
       "      <td>0</td>\n",
       "      <td>Blond</td>\n",
       "      <td>144</td>\n",
       "      <td>0 EUR</td>\n",
       "      <td>8663.53</td>\n",
       "    </tr>\n",
       "    <tr>\n",
       "      <th>3</th>\n",
       "      <td>4</td>\n",
       "      <td>1940.0</td>\n",
       "      <td>0</td>\n",
       "      <td>70</td>\n",
       "      <td>18</td>\n",
       "      <td>Average</td>\n",
       "      <td>female</td>\n",
       "      <td>42</td>\n",
       "      <td>Albania</td>\n",
       "      <td>59477</td>\n",
       "      <td>quality control senior engineer</td>\n",
       "      <td>No</td>\n",
       "      <td>1</td>\n",
       "      <td>Brown</td>\n",
       "      <td>152</td>\n",
       "      <td>0 EUR</td>\n",
       "      <td>2400.64</td>\n",
       "    </tr>\n",
       "    <tr>\n",
       "      <th>4</th>\n",
       "      <td>5</td>\n",
       "      <td>1940.0</td>\n",
       "      <td>0</td>\n",
       "      <td>51</td>\n",
       "      <td>8</td>\n",
       "      <td>Happy</td>\n",
       "      <td>other</td>\n",
       "      <td>15</td>\n",
       "      <td>Albania</td>\n",
       "      <td>23494</td>\n",
       "      <td>logistician</td>\n",
       "      <td>Master</td>\n",
       "      <td>1</td>\n",
       "      <td>Black</td>\n",
       "      <td>180</td>\n",
       "      <td>0 EUR</td>\n",
       "      <td>2816.18</td>\n",
       "    </tr>\n",
       "  </tbody>\n",
       "</table>\n",
       "</div>"
      ],
      "text/plain": [
       "   Instance  Year of Record Housing Situation  \\\n",
       "0         1          1940.0                 0   \n",
       "1         2          1940.0                 0   \n",
       "2         3          1940.0                 0   \n",
       "3         4          1940.0                 0   \n",
       "4         5          1940.0                 0   \n",
       "\n",
       "   Crime Level in the City of Employement  \\\n",
       "0                                      33   \n",
       "1                                      25   \n",
       "2                                      34   \n",
       "3                                      70   \n",
       "4                                      51   \n",
       "\n",
       "  Work Experience in Current Job [years] Satisfation with employer  Gender  \\\n",
       "0                                     17                   Unhappy   other   \n",
       "1                                    4.9                   Unhappy  female   \n",
       "2                                     21                   Unhappy  female   \n",
       "3                                     18                   Average  female   \n",
       "4                                      8                     Happy   other   \n",
       "\n",
       "   Age      Country  Size of City  \\\n",
       "0   45  Afghanistan         25179   \n",
       "1   17  Afghanistan       2278204   \n",
       "2   48  Afghanistan        822134   \n",
       "3   42      Albania         59477   \n",
       "4   15      Albania         23494   \n",
       "\n",
       "                                          Profession University Degree  \\\n",
       "0                                         group head                No   \n",
       "1  heavy vehicle and mobile equipment service tec...                No   \n",
       "2                                             sorter          Bachelor   \n",
       "3                    quality control senior engineer                No   \n",
       "4                                        logistician            Master   \n",
       "\n",
       "   Wears Glasses Hair Color  Body Height [cm]  \\\n",
       "0              1      Black               182   \n",
       "1              0      Blond               172   \n",
       "2              0      Blond               144   \n",
       "3              1      Brown               152   \n",
       "4              1      Black               180   \n",
       "\n",
       "  Yearly Income in addition to Salary (e.g. Rental Income)  \\\n",
       "0                                              0 EUR         \n",
       "1                                              0 EUR         \n",
       "2                                              0 EUR         \n",
       "3                                              0 EUR         \n",
       "4                                              0 EUR         \n",
       "\n",
       "   Total Yearly Income [EUR]  \n",
       "0                    6182.05  \n",
       "1                    6819.69  \n",
       "2                    8663.53  \n",
       "3                    2400.64  \n",
       "4                    2816.18  "
      ]
     },
     "execution_count": 3,
     "metadata": {},
     "output_type": "execute_result"
    }
   ],
   "source": [
    "Income_train_Set.head()"
   ]
  },
  {
   "cell_type": "code",
   "execution_count": 4,
   "metadata": {},
   "outputs": [],
   "source": [
    "_new_column = {'Year of Record':'Year',\n",
    "               'Housing Situation':'Housing',\n",
    "               'Crime Level in the City of Employement':'Crime',\n",
    "               'Work Experience in Current Job [years]':'Experience',\n",
    "               'Satisfation with employer':'Satisfaction',\n",
    "               'Size of City':'City',\n",
    "               'University Degree':'Degree',\n",
    "               'Wears Glasses':'Glasses',\n",
    "               'Hair Color':'Hair',\n",
    "               'Body Height [cm]':'Height',\n",
    "               'Yearly Income in addition to Salary (e.g. Rental Income)':'Add_Income',\n",
    "               'Total Yearly Income [EUR]': 'Income'}\n",
    "Income_train_Set = Income_train_Set.rename(_new_column, axis = 1)\n",
    "Income_Pred_Set = Income_Pred_Set.rename(_new_column, axis = 1)"
   ]
  },
  {
   "cell_type": "code",
   "execution_count": 5,
   "metadata": {},
   "outputs": [
    {
     "data": {
      "text/html": [
       "<div>\n",
       "<style scoped>\n",
       "    .dataframe tbody tr th:only-of-type {\n",
       "        vertical-align: middle;\n",
       "    }\n",
       "\n",
       "    .dataframe tbody tr th {\n",
       "        vertical-align: top;\n",
       "    }\n",
       "\n",
       "    .dataframe thead th {\n",
       "        text-align: right;\n",
       "    }\n",
       "</style>\n",
       "<table border=\"1\" class=\"dataframe\">\n",
       "  <thead>\n",
       "    <tr style=\"text-align: right;\">\n",
       "      <th></th>\n",
       "      <th>Instance</th>\n",
       "      <th>Year</th>\n",
       "      <th>Housing</th>\n",
       "      <th>Crime</th>\n",
       "      <th>Experience</th>\n",
       "      <th>Satisfaction</th>\n",
       "      <th>Gender</th>\n",
       "      <th>Age</th>\n",
       "      <th>Country</th>\n",
       "      <th>City</th>\n",
       "      <th>Profession</th>\n",
       "      <th>Degree</th>\n",
       "      <th>Glasses</th>\n",
       "      <th>Hair</th>\n",
       "      <th>Height</th>\n",
       "      <th>Add_Income</th>\n",
       "      <th>Income</th>\n",
       "    </tr>\n",
       "  </thead>\n",
       "  <tbody>\n",
       "    <tr>\n",
       "      <th>0</th>\n",
       "      <td>1</td>\n",
       "      <td>1994.0</td>\n",
       "      <td>Small House</td>\n",
       "      <td>23</td>\n",
       "      <td>12</td>\n",
       "      <td>Average</td>\n",
       "      <td>other</td>\n",
       "      <td>23</td>\n",
       "      <td>Serbia</td>\n",
       "      <td>734369</td>\n",
       "      <td>quality assurance specialist</td>\n",
       "      <td>Bachelor</td>\n",
       "      <td>0</td>\n",
       "      <td>Brown</td>\n",
       "      <td>151</td>\n",
       "      <td>0 EUR</td>\n",
       "      <td>NaN</td>\n",
       "    </tr>\n",
       "    <tr>\n",
       "      <th>1</th>\n",
       "      <td>2</td>\n",
       "      <td>1964.0</td>\n",
       "      <td>Castle</td>\n",
       "      <td>16</td>\n",
       "      <td>20</td>\n",
       "      <td>Average</td>\n",
       "      <td>NaN</td>\n",
       "      <td>44</td>\n",
       "      <td>Austria</td>\n",
       "      <td>897352</td>\n",
       "      <td>student data analyst</td>\n",
       "      <td>Master</td>\n",
       "      <td>0</td>\n",
       "      <td>Black</td>\n",
       "      <td>181</td>\n",
       "      <td>0 EUR</td>\n",
       "      <td>NaN</td>\n",
       "    </tr>\n",
       "    <tr>\n",
       "      <th>2</th>\n",
       "      <td>3</td>\n",
       "      <td>1974.0</td>\n",
       "      <td>Large House</td>\n",
       "      <td>22</td>\n",
       "      <td>11</td>\n",
       "      <td>Average</td>\n",
       "      <td>NaN</td>\n",
       "      <td>21</td>\n",
       "      <td>Serbia</td>\n",
       "      <td>766</td>\n",
       "      <td>project manager</td>\n",
       "      <td>Bachelor</td>\n",
       "      <td>0</td>\n",
       "      <td>Blond</td>\n",
       "      <td>179</td>\n",
       "      <td>0 EUR</td>\n",
       "      <td>NaN</td>\n",
       "    </tr>\n",
       "    <tr>\n",
       "      <th>3</th>\n",
       "      <td>4</td>\n",
       "      <td>1997.0</td>\n",
       "      <td>Large Apartment</td>\n",
       "      <td>41</td>\n",
       "      <td>14</td>\n",
       "      <td>Average</td>\n",
       "      <td>male</td>\n",
       "      <td>24</td>\n",
       "      <td>Sierra Leone</td>\n",
       "      <td>1150488</td>\n",
       "      <td>staff engineer / architect</td>\n",
       "      <td>Bachelor</td>\n",
       "      <td>0</td>\n",
       "      <td>Blond</td>\n",
       "      <td>201</td>\n",
       "      <td>0 EUR</td>\n",
       "      <td>NaN</td>\n",
       "    </tr>\n",
       "    <tr>\n",
       "      <th>4</th>\n",
       "      <td>5</td>\n",
       "      <td>1949.0</td>\n",
       "      <td>0</td>\n",
       "      <td>22</td>\n",
       "      <td>17</td>\n",
       "      <td>Happy</td>\n",
       "      <td>male</td>\n",
       "      <td>42</td>\n",
       "      <td>Ecuador</td>\n",
       "      <td>98532</td>\n",
       "      <td>machinist</td>\n",
       "      <td>No</td>\n",
       "      <td>1</td>\n",
       "      <td>Blond</td>\n",
       "      <td>163</td>\n",
       "      <td>0 EUR</td>\n",
       "      <td>NaN</td>\n",
       "    </tr>\n",
       "  </tbody>\n",
       "</table>\n",
       "</div>"
      ],
      "text/plain": [
       "   Instance    Year          Housing  Crime Experience Satisfaction Gender  \\\n",
       "0         1  1994.0      Small House     23         12      Average  other   \n",
       "1         2  1964.0           Castle     16         20      Average    NaN   \n",
       "2         3  1974.0      Large House     22         11      Average    NaN   \n",
       "3         4  1997.0  Large Apartment     41         14      Average   male   \n",
       "4         5  1949.0                0     22         17        Happy   male   \n",
       "\n",
       "   Age       Country     City                    Profession    Degree  \\\n",
       "0   23        Serbia   734369  quality assurance specialist  Bachelor   \n",
       "1   44       Austria   897352          student data analyst    Master   \n",
       "2   21        Serbia      766               project manager  Bachelor   \n",
       "3   24  Sierra Leone  1150488    staff engineer / architect  Bachelor   \n",
       "4   42       Ecuador    98532                     machinist        No   \n",
       "\n",
       "   Glasses   Hair  Height Add_Income  Income  \n",
       "0        0  Brown     151      0 EUR     NaN  \n",
       "1        0  Black     181      0 EUR     NaN  \n",
       "2        0  Blond     179      0 EUR     NaN  \n",
       "3        0  Blond     201      0 EUR     NaN  \n",
       "4        1  Blond     163      0 EUR     NaN  "
      ]
     },
     "execution_count": 5,
     "metadata": {},
     "output_type": "execute_result"
    }
   ],
   "source": [
    "Income_train_Set.head()\n",
    "Income_Pred_Set.head()"
   ]
  },
  {
   "cell_type": "code",
   "execution_count": 6,
   "metadata": {},
   "outputs": [],
   "source": [
    "#remove EUR in Income column\n",
    "Income_train_Set['Add_Income'] = Income_train_Set['Add_Income'].map(lambda x : x.replace('EUR', ''))\n",
    "Income_Pred_Set['Add_Income'] = Income_Pred_Set['Add_Income'].map(lambda x : x.replace('EUR', ''))"
   ]
  },
  {
   "cell_type": "code",
   "execution_count": 7,
   "metadata": {},
   "outputs": [],
   "source": [
    "#convert Object to float\n",
    "Income_train_Set['Add_Income'] = pd.to_numeric(Income_train_Set['Add_Income'])\n",
    "Income_Pred_Set['Add_Income'] = pd.to_numeric(Income_Pred_Set['Add_Income'])"
   ]
  },
  {
   "cell_type": "code",
   "execution_count": 8,
   "metadata": {},
   "outputs": [
    {
     "name": "stdout",
     "output_type": "stream",
     "text": [
      "<class 'pandas.core.frame.DataFrame'>\n",
      "RangeIndex: 369438 entries, 0 to 369437\n",
      "Data columns (total 17 columns):\n",
      "Instance        369438 non-null int64\n",
      "Year            367944 non-null float64\n",
      "Housing         369438 non-null object\n",
      "Crime           369438 non-null int64\n",
      "Experience      369438 non-null object\n",
      "Satisfaction    356006 non-null object\n",
      "Gender          343130 non-null object\n",
      "Age             369438 non-null int64\n",
      "Country         369437 non-null object\n",
      "City            369438 non-null int64\n",
      "Profession      368397 non-null object\n",
      "Degree          340700 non-null object\n",
      "Glasses         369438 non-null int64\n",
      "Hair            344787 non-null object\n",
      "Height          369438 non-null int64\n",
      "Add_Income      369438 non-null float64\n",
      "Income          0 non-null float64\n",
      "dtypes: float64(3), int64(6), object(8)\n",
      "memory usage: 47.9+ MB\n"
     ]
    }
   ],
   "source": [
    "Income_Pred_Set.info()"
   ]
  },
  {
   "cell_type": "code",
   "execution_count": 11,
   "metadata": {},
   "outputs": [
    {
     "name": "stdout",
     "output_type": "stream",
     "text": [
      "<class 'pandas.core.frame.DataFrame'>\n",
      "RangeIndex: 1048574 entries, 0 to 1048573\n",
      "Data columns (total 17 columns):\n",
      "Instance        1048574 non-null int64\n",
      "Year            1044561 non-null float64\n",
      "Housing         1048574 non-null object\n",
      "Crime           1048574 non-null int64\n",
      "Experience      1048574 non-null object\n",
      "Satisfaction    1010487 non-null object\n",
      "Gender          974447 non-null object\n",
      "Age             1048574 non-null int64\n",
      "Country         1048574 non-null object\n",
      "City            1048574 non-null int64\n",
      "Profession      1045721 non-null object\n",
      "Degree          967974 non-null object\n",
      "Glasses         1048574 non-null int64\n",
      "Hair            978363 non-null object\n",
      "Height          1048574 non-null int64\n",
      "Add_Income      1048574 non-null float64\n",
      "Income          1048574 non-null float64\n",
      "dtypes: float64(3), int64(6), object(8)\n",
      "memory usage: 136.0+ MB\n"
     ]
    }
   ],
   "source": [
    "Income_train_Set.info()"
   ]
  },
  {
   "cell_type": "code",
   "execution_count": 12,
   "metadata": {},
   "outputs": [],
   "source": [
    "def subset_by_iqr(df, column, whisker_width=1.1):\n",
    "    # Calculate Q1, Q2 and IQR\n",
    "    q1 = df[column].quantile(0.25)                 \n",
    "    q3 = df[column].quantile(0.75)\n",
    "    iqr = q3 - q1\n",
    "    # Apply filter with respect to IQR, including optional whiskers\n",
    "    filter = (df[column] >= q1 - whisker_width*iqr) & (df[column] <= q3 + whisker_width*iqr)\n",
    "    return df.loc[filter]                  "
   ]
  },
  {
   "cell_type": "code",
   "execution_count": 13,
   "metadata": {},
   "outputs": [],
   "source": [
    "Income_train_Set = subset_by_iqr(Income_train_Set, 'Income',whisker_width = 1.5)"
   ]
  },
  {
   "cell_type": "code",
   "execution_count": 14,
   "metadata": {},
   "outputs": [
    {
     "data": {
      "text/plain": [
       "<matplotlib.axes._subplots.AxesSubplot at 0x1a21617e80>"
      ]
     },
     "execution_count": 14,
     "metadata": {},
     "output_type": "execute_result"
    },
    {
     "data": {
      "image/png": "[encoded data removed]",
      "text/plain": [
       "<Figure size 432x288 with 1 Axes>"
      ]
     },
     "metadata": {
      "image/png": {
       "height": 261,
       "width": 418
      },
      "needs_background": "light"
     },
     "output_type": "display_data"
    }
   ],
   "source": [
    "Income_train_Set.plot.scatter(x = 'Instance', y = 'Income')"
   ]
  },
  {
   "cell_type": "code",
   "execution_count": 17,
   "metadata": {},
   "outputs": [],
   "source": [
    "Concat_Set = pd.concat([Income_train_Set,Income_Pred_Set],ignore_index=True)"
   ]
  },
  {
   "cell_type": "code",
   "execution_count": 18,
   "metadata": {},
   "outputs": [
    {
     "data": {
      "text/plain": [
       "\"\\nYear = Income_train_Set['Hair'].value_counts()   #median();mean();value_counts\\nYear\\nmost_frequent:\\n    *Gender:male\\n    *Degree:Bachelor\\n    *Hair:Black\\n    *country:Honduras\\n\""
      ]
     },
     "execution_count": 18,
     "metadata": {},
     "output_type": "execute_result"
    }
   ],
   "source": [
    "from sklearn.impute import SimpleImputer\n",
    "# fill nan strategy: most_frequent value"
   ]
  },
  {
   "cell_type": "code",
   "execution_count": 20,
   "metadata": {},
   "outputs": [],
   "source": [
    "fillna_mode = SimpleImputer(strategy = \"most_frequent\" ) #fill nan with most frequent"
   ]
  },
  {
   "cell_type": "code",
   "execution_count": 21,
   "metadata": {},
   "outputs": [],
   "source": [
    "Year = Concat_Set['Year'].values.reshape(-1,1)\n",
    "Concat_Set['Year'] = fillna_mode.fit_transform(Year)"
   ]
  },
  {
   "cell_type": "code",
   "execution_count": 22,
   "metadata": {},
   "outputs": [],
   "source": [
    "fillna_dict = {'Satisfaction':'Average',\n",
    "               'Gender':'female',\n",
    "               'Country': 'Honduras',\n",
    "               'Profession': 'payment analyst',\n",
    "               'Degree': 'Bachelor',\n",
    "               'Hair': 'Brown'\n",
    "               }"
   ]
  },
  {
   "cell_type": "code",
   "execution_count": 23,
   "metadata": {},
   "outputs": [],
   "source": [
    "for key in fillna_dict.keys():\n",
    "    Concat_Set[key] = Concat_Set[key].fillna(fillna_dict[key])\n",
    "# using sklearn module get longer runtime"
   ]
  },
  {
   "cell_type": "code",
   "execution_count": 24,
   "metadata": {},
   "outputs": [
    {
     "data": {
      "text/plain": [
       "Instance             0\n",
       "Year                 0\n",
       "Housing              0\n",
       "Crime                0\n",
       "Experience           0\n",
       "Satisfaction         0\n",
       "Gender               0\n",
       "Age                  0\n",
       "Country              0\n",
       "City                 0\n",
       "Profession           0\n",
       "Degree               0\n",
       "Glasses              0\n",
       "Hair                 0\n",
       "Height               0\n",
       "Add_Income           0\n",
       "Income          369438\n",
       "dtype: int64"
      ]
     },
     "execution_count": 24,
     "metadata": {},
     "output_type": "execute_result"
    }
   ],
   "source": [
    "Concat_Set.isnull().sum()"
   ]
  },
  {
   "cell_type": "code",
   "execution_count": 25,
   "metadata": {},
   "outputs": [],
   "source": [
    "def create_cat_con(df,cats,cons,normalize=True):\n",
    "    for i,cat in enumerate(cats):\n",
    "        vc = df[cat].value_counts(dropna=False, normalize=normalize).to_dict() #normalize = true 显示不同value占比\n",
    "        nm = cat + '_FE_FULL' \n",
    "        df[nm] = df[cat].map(vc) \n",
    "        df[nm] = df[nm].astype('float32')\n",
    "        for j,con in enumerate(cons):\n",
    "            new_col = cat +'_'+ con\n",
    "            print('timeblock frequency encoding:', new_col)\n",
    "            df[new_col] = df[cat].astype(str)+'_'+df[con].astype(str)  \n",
    "            temp_df = df[new_col]\n",
    "            fq_encode = temp_df.value_counts(normalize=True).to_dict()\n",
    "            df[new_col] = df[new_col].map(fq_encode)\n",
    "            df[new_col] = df[new_col]/df[cat+'_FE_FULL']\n",
    "    return df"
   ]
  },
  {
   "cell_type": "code",
   "execution_count": 26,
   "metadata": {},
   "outputs": [
    {
     "name": "stdout",
     "output_type": "stream",
     "text": [
      "timeblock frequency encoding: Year_City\n",
      "timeblock frequency encoding: Year_Height\n",
      "timeblock frequency encoding: Year_Add_Income\n",
      "timeblock frequency encoding: Housing_City\n",
      "timeblock frequency encoding: Housing_Height\n",
      "timeblock frequency encoding: Housing_Add_Income\n",
      "timeblock frequency encoding: Experience_City\n",
      "timeblock frequency encoding: Experience_Height\n",
      "timeblock frequency encoding: Experience_Add_Income\n",
      "timeblock frequency encoding: Satisfaction_City\n",
      "timeblock frequency encoding: Satisfaction_Height\n",
      "timeblock frequency encoding: Satisfaction_Add_Income\n",
      "timeblock frequency encoding: Gender_City\n",
      "timeblock frequency encoding: Gender_Height\n",
      "timeblock frequency encoding: Gender_Add_Income\n",
      "timeblock frequency encoding: Age_City\n",
      "timeblock frequency encoding: Age_Height\n",
      "timeblock frequency encoding: Age_Add_Income\n",
      "timeblock frequency encoding: Country_City\n",
      "timeblock frequency encoding: Country_Height\n",
      "timeblock frequency encoding: Country_Add_Income\n",
      "timeblock frequency encoding: Profession_City\n",
      "timeblock frequency encoding: Profession_Height\n",
      "timeblock frequency encoding: Profession_Add_Income\n",
      "timeblock frequency encoding: Degree_City\n",
      "timeblock frequency encoding: Degree_Height\n",
      "timeblock frequency encoding: Degree_Add_Income\n",
      "timeblock frequency encoding: Glasses_City\n",
      "timeblock frequency encoding: Glasses_Height\n",
      "timeblock frequency encoding: Glasses_Add_Income\n",
      "timeblock frequency encoding: Hair_City\n",
      "timeblock frequency encoding: Hair_Height\n",
      "timeblock frequency encoding: Hair_Add_Income\n",
      "timeblock frequency encoding: Crime_City\n",
      "timeblock frequency encoding: Crime_Height\n",
      "timeblock frequency encoding: Crime_Add_Income\n"
     ]
    },
    {
     "data": {
      "text/plain": [
       "'done'"
      ]
     },
     "execution_count": 26,
     "metadata": {},
     "output_type": "execute_result"
    }
   ],
   "source": [
    "cats = ['Year', 'Housing', 'Experience',\n",
    "        'Satisfaction', 'Gender', 'Age',\n",
    "        'Country', 'Profession', 'Degree', 'Glasses', 'Hair','Crime']\n",
    "cons = ['City', 'Height', 'Add_Income']\n",
    "\n",
    "data = create_cat_con(Concat_Set,cats,cons)\n",
    "'done'"
   ]
  },
  {
   "cell_type": "code",
   "execution_count": 28,
   "metadata": {},
   "outputs": [],
   "source": [
    "for col in Income_train_Set.dtypes[Income_train_Set.dtypes == 'object'].index.tolist():\n",
    "    feat_le = LabelEncoder()\n",
    "    feat_le.fit(Concat_Set[col].unique().astype(str))\n",
    "    Concat_Set[col] = feat_le.transform(data[col].astype(str))\n",
    "    \n",
    "del_col = set(['Income','Instance'])\n",
    "features_col =  list(set(Concat_Set) - del_col)"
   ]
  },
  {
   "cell_type": "code",
   "execution_count": 29,
   "metadata": {},
   "outputs": [],
   "source": [
    "X_train,X_test = Concat_Set[features_col].iloc[:955130],data[features_col].iloc[955131:]\n",
    "Y_train = data['Income'].iloc[:955130]\n",
    "X_test_id = data['Instance'].iloc[955131:]\n",
    "x_train,x_val,y_train,y_val = train_test_split(X_train,Y_train,test_size=0.2,random_state=1234)"
   ]
  },
  {
   "cell_type": "code",
   "execution_count": 30,
   "metadata": {},
   "outputs": [
    {
     "name": "stdout",
     "output_type": "stream",
     "text": [
      "Training until validation scores don't improve for 500 rounds.\n",
      "[1000]\ttraining's l2: 7.20074e+07\tvalid_1's l2: 9.11995e+07\n",
      "[2000]\ttraining's l2: 5.7625e+07\tvalid_1's l2: 9.0178e+07\n",
      "Early stopping, best iteration is:\n",
      "[2183]\ttraining's l2: 5.56705e+07\tvalid_1's l2: 9.01282e+07\n"
     ]
    },
    {
     "data": {
      "text/plain": [
       "'done'"
      ]
     },
     "execution_count": 30,
     "metadata": {},
     "output_type": "execute_result"
    }
   ],
   "source": [
    "params = {\n",
    "          'max_depth': 20,\n",
    "          'learning_rate': 0.1,\n",
    "          \"boosting\": \"gbdt\",\n",
    "          \"bagging_seed\": 11,\n",
    "          \"metric\": 'mse',\n",
    "          \"verbosity\": -1,\n",
    "         }\n",
    "trn_data = lgb.Dataset(x_train, label=y_train)\n",
    "val_data = lgb.Dataset(x_val, label=y_val)\n",
    "# test_data = lgb.Dataset(X_test)\n",
    "clf = lgb.train(params, trn_data, 100000, valid_sets = [trn_data, val_data], verbose_eval=1000, early_stopping_rounds=500)\n",
    "pre_test_lgb = clf.predict(X_test)\n",
    "'done'"
   ]
  },
  {
   "cell_type": "code",
   "execution_count": 31,
   "metadata": {},
   "outputs": [
    {
     "data": {
      "text/plain": [
       "9493.586132217948"
      ]
     },
     "execution_count": 31,
     "metadata": {},
     "output_type": "execute_result"
    }
   ],
   "source": [
    "from sklearn.metrics import mean_squared_error\n",
    "pre_val_lgb = clf.predict(x_val)\n",
    "val_mse = mean_squared_error(y_val,pre_val_lgb)\n",
    "val_rmse = np.sqrt(val_mse)\n",
    "val_rmse"
   ]
  },
  {
   "cell_type": "code",
   "execution_count": 37,
   "metadata": {},
   "outputs": [
    {
     "data": {
      "text/plain": [
       "'done'"
      ]
     },
     "execution_count": 37,
     "metadata": {},
     "output_type": "execute_result"
    }
   ],
   "source": [
    "#sub_df.to_csv(\"sub.csv\",index=False)\n",
    "'done'"
   ]
  }
 ],
 "metadata": {
  "kernelspec": {
   "display_name": "Python 3",
   "language": "python",
   "name": "python3"
  },
  "language_info": {
   "codemirror_mode": {
    "name": "ipython",
    "version": 3
   },
   "file_extension": ".py",
   "mimetype": "text/x-python",
   "name": "python",
   "nbconvert_exporter": "python",
   "pygments_lexer": "ipython3",
   "version": "3.7.3"
  }
 },
 "nbformat": 4,
 "nbformat_minor": 2
}
